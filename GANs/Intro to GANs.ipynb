{
 "cells": [
  {
   "cell_type": "markdown",
   "metadata": {},
   "source": [
    "\n",
    "![alt text](edmond.png \"generator discriminator formula\")\n",
    "\n",
    "# Introduction to Generative Adversarial Networks with Python\n",
    "\n",
    "Christie’s auctioneers in New York City recently made international headlines for selling a portrait of Edmond de Belamy , who appears to be of the French Aristocracy, for a sum of $432,500. This isnt an unusual feat for this an auction house that caters specifically to those of more discerning tastes. What makes this photo stand out isn't just the painting style or its masterful use of water colors; the artist that created this master piece is a neural network developed by a team in France. It's almost as if this network has an imagination of its own, so thats what we'll dip into today, building imaginary works and feature with GAN's.\n",
    "\n",
    "Generative Adversarial Networks (referred to as GAN(s) for brevity) are one of the hottest topics in machine learning, due to what they can accomplish with training data and what they can output. Rather than being a pure discriminator network that can map labels onto features afrter it learns about the underlying patterns of that data, GAN's takes this in a backwards manner and can generate *possible* features after learning about the given labels.\n",
    "\n",
    "## The method behind the madness of GANs\n",
    "\n",
    "At a high level, his type of neural network architecture is all about generation of new data and validation of that new generated data. Let's go over the parts of this system and their specific duties:\n",
    "\n",
    "- The **generator network** takes the training data, and based on what features it sees, generates new instances of that training data\n",
    "    - If we were using the titanic data set it would create a whole new passenger that was never on the titanic\n",
    "    - If we used the MNIST data set, it would generate new \"numbers\" that are not present in the current arabic numerals\n",
    "    - It then takes this newly created data along with samples from the actual data set and feeds them into the discriminator network\n",
    "\n",
    "- The **discriminator network** a more traditional neural network that takes the outputs the generator network created and classifies all of the inputs with a probability of them being real or fake (this being a value between 0-1)\n",
    "\n",
    "This is the equivalent of having an art critic and a counterfiet art maker in competition with eachother.\n",
    "The counterfiet art maker (generator) initially only has accesss to the real paintings and attempts to make paintings are close to those as possible, with a few changes for originality (imagine someone \"finding\" a Rembrant that doesnt appear in his his known catalogue and attemping to put that to auction).\n",
    "\n",
    "The art critic (the discriminator) appraises the paintings, both real and fake that are submitted to an auction house, and through careful study that they have built up over seeing many sampels of work, attempts to make sure that fake images don't make it to the auction.\n",
    "\n",
    "Over a series of training epochs, these two networks both get better at their respective jobs, maximizing their loss against eachother until a happpy medium is met.\n",
    "\n",
    "The mathematical formula for this is the following:\n",
    "\n",
    "\n",
    "\n",
    "![alt text](minmaxDG.png \"generator discriminator formula\")\n",
    "\n",
    "\n",
    "\n",
    "D is the discrimator and G is the generator. This formula discribes how the loss functions of each contribute to the training of the network\n",
    "\n",
    "## Best Practices in handling dataand training GANs\n",
    "\n",
    "Luckily for us using python, we have access to Kera's sequential models for training out neural networks. This is important becuase when training the both the generative and discrimanator network, these need to be done one after another in a for-loop, generally in the same function or part of script (It's good practice to see these  placed into a OO style class for simplicity, but those working in languages such as Scala might be use to a more functional approach). The reason for  this is that each of the networks should be training against an already trained static adversary, by static we mean that the outputs and inputs that are being trained on  are valid for the single for-loop epoch that both are being pitted agaisnt eachother.\n",
    "\n",
    "The order of operation that has yeiled consistent results is to train the discriminator first, so the generative network can better capture the gradient by why this discriminator uses to classify the results as fake or real\n",
    "This allows the generative network to better learn not just the data that is it going to generate better but also to \"fool\" the discriminator.\n"
   ]
  },
  {
   "cell_type": "code",
   "execution_count": 1,
   "metadata": {},
   "outputs": [
    {
     "name": "stdout",
     "output_type": "stream",
     "text": [
      "Intro to GANs.ipynb  minmaxDG.png\r\n"
     ]
    }
   ],
   "source": [
    " %ls\n",
    " "
   ]
  }
 ],
 "metadata": {
  "kernelspec": {
   "display_name": "Python 3",
   "language": "python",
   "name": "python3"
  },
  "language_info": {
   "codemirror_mode": {
    "name": "ipython",
    "version": 3
   },
   "file_extension": ".py",
   "mimetype": "text/x-python",
   "name": "python",
   "nbconvert_exporter": "python",
   "pygments_lexer": "ipython3",
   "version": "3.6.8"
  }
 },
 "nbformat": 4,
 "nbformat_minor": 2
}
