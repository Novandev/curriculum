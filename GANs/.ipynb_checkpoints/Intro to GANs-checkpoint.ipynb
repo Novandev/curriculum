{
 "cells": [
  {
   "cell_type": "markdown",
   "metadata": {},
   "source": [
    "# Introduction to Generative Adversarial Networks with Python\n",
    "\n",
    "Christie’s auctioneers in New York City recently made international headlines for selling a portrait of Edmond de Belamy , who appears to be of the French Aristocracy, for a sum of $432,500. This isnt an unusual feat for this an auction house that caters specifically to those of more discerning tastes. What makes this photo stand out isn't just the painting style or its masterful use of water colors; the artist that created this master piece is a neural network developed by a team in France. Let's dig into this to see how this is possible.\n",
    "\n",
    "Generative Adversarial Networks( reffered to as GAN(s) for brevity) are one of the hottest topics in machine learning, due to what they can accomplish with training data and what they can output. Rather than being a pure discriminator network that can map labels onto features afrter it learns about the underlying patterns of that data, GAN's takes this in a backwards manner and can generate *possible* features after learning about the given labels."
   ]
  },
  {
   "cell_type": "markdown",
   "metadata": {},
   "source": [
    " "
   ]
  }
 ],
 "metadata": {
  "kernelspec": {
   "display_name": "Python 3",
   "language": "python",
   "name": "python3"
  },
  "language_info": {
   "codemirror_mode": {
    "name": "ipython",
    "version": 3
   },
   "file_extension": ".py",
   "mimetype": "text/x-python",
   "name": "python",
   "nbconvert_exporter": "python",
   "pygments_lexer": "ipython3",
   "version": "3.6.8"
  }
 },
 "nbformat": 4,
 "nbformat_minor": 2
}
