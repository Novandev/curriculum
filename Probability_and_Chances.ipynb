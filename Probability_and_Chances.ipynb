{
 "cells": [
  {
   "cell_type": "markdown",
   "metadata": {},
   "source": [
    "# Probability refresher\n",
    "\n",
    "Suggested readings before class:<br>\n",
    "[Math is fun:Probability](https://www.mathsisfun.com/data/probability.html)\n",
    "\n",
    "\n",
    "Probability is all about the **chances of an event occuring** or how likely an event is to occur, in a set of events.\n",
    "\n",
    "If you really think about it, you've probably been thinking about probability all of your life, such as if you've ever wonderered about \n",
    "\n",
    "\n",
    "> -  The chances of it raining today\n",
    "> -  The chances of winning the lottery\n",
    "> -  The chances of getting hired at Google\n",
    "\n",
    "\n",
    "To really make sense of **the chances** of an event occuring, we need to look at a bit of math through  **probability**.\n",
    "\n",
    "<br>\n",
    "In math probability is modeled by the expression:<br><br>\n",
    "$P(A)= \\frac{Count of A }{sample Space}$<br><br>\n",
    "\n",
    " <br><br>\n",
    "\n",
    "$ P $  is the probability of the event $ A $ occuring in a set of observed events $ sample space $\n",
    "$ count of A $  - is the number of times an certain detail was present in the whole set\n",
    "$ sampleSpace $ - total number of observed events\n",
    "\n",
    "\n",
    "To better understand how works, the closer this number is to 0, the less likely it is to occur, with a value 0 meaning it didnt happen at all. The closer to 1 being an indicator that it, the event is more likely to happen, with a value of 1 being that in every single case this happened.\n",
    "\n",
    "\n",
    "<img src=\"https://www2.southeastern.edu/Academics/Faculty/dgurney/Math241/StatTopics/PrbScl4.jpg\" />\n",
    "\n",
    "\n",
    "You'll often see this represented in data sets in a number of formats. Here are some examples:<br><br>\n",
    "\n",
    "| Hired|\n",
    "|------|\n",
    "| false|\n",
    "| true |\n",
    "| true |\n",
    "| false|\n",
    "\n",
    "<br>\n",
    " or\n",
    "<br>\n",
    "\n",
    "| Won Lottery |\n",
    "| ----|\n",
    "| yes |\n",
    "| no  |\n",
    "| no  |\n",
    "| no  |\n",
    "\n",
    "\n",
    "Lets look at a short example by actually examining some hiring numbers at Google<br><br>\n",
    "[Click here to read an article about the hiring stats at Google](https://qz.com/285001/heres-why-you-only-have-a-0-2-chance-of-getting-hired-at-google/)<br>\n",
    "> __Google gets around 3 million applications a year now, according to HR head Laszlo Bock, and hires 7,000 .... making it far more selective than institutions like Harvard, Yale, and Stanford.__<br>\n",
    "\n",
    "\n",
    "<br><br>\n",
    "\n",
    "\n",
    "\n",
    "So we have 3 million **observed events**,(in this case the event is submitting an application).<br>\n",
    "And in 7000 of  those 3 million them a hiring occured\n",
    "\n",
    "\n",
    "Lets model that with some code!\n",
    "\n",
    "\n"
   ]
  },
  {
   "cell_type": "code",
   "execution_count": 5,
   "metadata": {},
   "outputs": [
    {
     "data": {
      "text/plain": [
       "0.0023333333333333335"
      ]
     },
     "metadata": {},
     "output_type": "display_data"
    }
   ],
   "source": [
    "import random\n",
    "# total number of applicants to Google\n",
    "num_of_applicants = 3000000\n",
    "\n",
    "# here we have the number of people that actually got hired out of that group\n",
    "total_hires = 7000\n",
    "\n",
    "\n",
    "def probability(event_count, sample_space):\n",
    "    p =  event_count/sample_space\n",
    "    return p\n",
    "\n",
    "prob_hired = probability(total_hires,num_of_applicants)\n",
    "display(prob_hired)"
   ]
  },
  {
   "cell_type": "markdown",
   "metadata": {},
   "source": [
    "^ this number can be used to tell more human readable calculations such as turning it into a percentage by multiplying it by 100"
   ]
  },
  {
   "cell_type": "code",
   "execution_count": 12,
   "metadata": {},
   "outputs": [
    {
     "data": {
      "text/plain": [
       "'0.23333333333333336% chance of occurence'"
      ]
     },
     "execution_count": 12,
     "metadata": {},
     "output_type": "execute_result"
    }
   ],
   "source": [
    "def percentage(prob):\n",
    "    percentage = prob * 100\n",
    "    return '{}% chance of occurence'.format(percentage)\n",
    "percentage_hired(prob_hired)"
   ]
  },
  {
   "cell_type": "markdown",
   "metadata": {},
   "source": [
    "To get the fractional form of the probabiility, divide both the divide both $ A $ and $ sample space $ by $ A $, then(if needed), round the denominiator"
   ]
  },
  {
   "cell_type": "code",
   "execution_count": 23,
   "metadata": {},
   "outputs": [
    {
     "data": {
      "text/plain": [
       "'1 /429 chance of occurence'"
      ]
     },
     "execution_count": 23,
     "metadata": {},
     "output_type": "execute_result"
    }
   ],
   "source": [
    "def fraction_probability(event_count,sample_space):\n",
    "    denominator = round( sample_space/event_count)\n",
    "    numerator = int(event_count/event_count)\n",
    "    return '{} /{} chance of occurence'.format(numerator, denominator)\n",
    "\n",
    "fraction_probability(total_hires,num_of_applicants)"
   ]
  },
  {
   "cell_type": "markdown",
   "metadata": {},
   "source": [
    "# Conditional Probability\n",
    "\n",
    "Conditonal probability takes this a bit further in that it gets more descriptive"
   ]
  }
 ],
 "metadata": {
  "kernelspec": {
   "display_name": "Python 3",
   "language": "python",
   "name": "python3"
  },
  "language_info": {
   "codemirror_mode": {
    "name": "ipython",
    "version": 3
   },
   "file_extension": ".py",
   "mimetype": "text/x-python",
   "name": "python",
   "nbconvert_exporter": "python",
   "pygments_lexer": "ipython3",
   "version": "3.6.5"
  }
 },
 "nbformat": 4,
 "nbformat_minor": 2
}
