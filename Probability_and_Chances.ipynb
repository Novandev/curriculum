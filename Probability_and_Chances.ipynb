{
 "cells": [
  {
   "cell_type": "markdown",
   "metadata": {},
   "source": [
    "# Probability\n",
    "\n",
    "Probability is all about the **chances of an event occuring**\n",
    "\n",
    "If you really think about it, you've probably been thinking about probability all of your life, such as if you've ever wonderered about \n",
    "\n",
    "\n",
    "> -  The chances of it raining today\n",
    "> -  The chances of winning the lottery\n",
    "> -  The chances of getting hired at Google\n",
    "\n",
    "\n",
    "Before we head into the mathematic notation were going to get into an example in python of  how to represent probability in code by actually examining some hiring numbers at Google<br>\n",
    "[Click here to read an article about the hiring stats at Google](https://qz.com/285001/heres-why-you-only-have-a-0-2-chance-of-getting-hired-at-google/)<br>\n",
    "> __Google gets around 3 million applications a year now, according to HR head Laszlo Bock, and hires 7,000. That means only one in 428 applicants end up with a job, making it far more selective than institutions like Harvard, Yale, and Stanford.__<br>\n",
    "\n",
    "\n",
    "<br><br>\n",
    "Lets model that with some code!\n",
    "\n",
    "P(A)=Event outcomes favorable to A/Sample"
   ]
  },
  {
   "cell_type": "code",
   "execution_count": 1,
   "metadata": {},
   "outputs": [
    {
     "data": {
      "text/plain": [
       "0.0023333333333333335"
      ]
     },
     "metadata": {},
     "output_type": "display_data"
    }
   ],
   "source": [
    "# this is a rounded total number of applicants to Google\n",
    "total_num_of_applicants = 3000000\n",
    "\n",
    "# here we have the number of people that actually got hired out of that group\n",
    "total_hires = 7000\n",
    "\n",
    "# now in order to figure out exactly w\n",
    "p = total_hires/total_num_of_applicants\n",
    "display(p)"
   ]
  }
 ],
 "metadata": {
  "kernelspec": {
   "display_name": "Python 3",
   "language": "python",
   "name": "python3"
  },
  "language_info": {
   "codemirror_mode": {
    "name": "ipython",
    "version": 3
   },
   "file_extension": ".py",
   "mimetype": "text/x-python",
   "name": "python",
   "nbconvert_exporter": "python",
   "pygments_lexer": "ipython3",
   "version": "3.6.5"
  }
 },
 "nbformat": 4,
 "nbformat_minor": 2
}
