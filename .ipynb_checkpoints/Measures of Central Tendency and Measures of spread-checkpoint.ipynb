{
 "cells": [
  {
   "cell_type": "markdown",
   "metadata": {},
   "source": [
    "# Review of hisotgrams, mean, median, and mode \n",
    "\n",
    "## Suggested before class readings :https://www.purplemath.com/modules/meanmode.htm\n",
    "\n",
    "Measuring the occurence of events(how many times did it happen)  is core to how statistics works, with one of the most common representations occurences being a histogram.\n",
    "\n",
    "To recap, a histogram works by counting up all of the number of occurrances of individual events, then tallying up the count of each event. An example would be birth dates which might look like this\n",
    "\n",
    "\n",
    "\n",
    "|Year born|\n",
    "|------|\n",
    "|1995|\n",
    "|1996|\n",
    "|1995|\n",
    "|2000|\n",
    "|1989|\n",
    "|1990|\n",
    "|1976|\n",
    "|1950|\n",
    "|2001|\n",
    "\n",
    "Lets look at this programatically"
   ]
  },
  {
   "cell_type": "code",
   "execution_count": 1,
   "metadata": {},
   "outputs": [],
   "source": [
    "import numpy as np\n",
    "from scipy import stats\n",
    "import matplotlib.pyplot as plot\n",
    "birthday_list = np.array([1995, 1995, 1995, 1995, 1995, 2000, 1989, 1990, 1976, 1950, 1949, 2001, 1992, 1986, 1997, 1987, 1976, 1985, 1993, 1981])\n"
   ]
  },
  {
   "cell_type": "markdown",
   "metadata": {},
   "source": [
    "### Measures of Central Tendency\n",
    "\n",
    "Intuition tell us that if you had to choose a single value to represent an entire sample space, you’d pick a value near the center of the distrubution of events, since those values SHOULD tend to appear the most often.\n",
    "This is seen most commonly as the mean, median and mode."
   ]
  },
  {
   "cell_type": "markdown",
   "metadata": {},
   "source": [
    "#### Mean\n",
    "To recap, the mean calculates the average number of occurences, or the average numerical value if all the data was distributed evenly among all of the samples.\n",
    "\n",
    "\n",
    "mean - total number of occurences/ sum of values"
   ]
  },
  {
   "cell_type": "code",
   "execution_count": 2,
   "metadata": {},
   "outputs": [
    {
     "data": {
      "text/plain": [
       "1986.3499999999999"
      ]
     },
     "execution_count": 2,
     "metadata": {},
     "output_type": "execute_result"
    }
   ],
   "source": [
    "birthday_list.mean()"
   ]
  },
  {
   "cell_type": "markdown",
   "metadata": {},
   "source": [
    "### Median\n",
    "\n",
    "The median is the middle value,  that represents half of the numbers being above and half of the nubers being below it. \n",
    "\n",
    "This number may or may not be in the dataset, as an even number of elements means finding the average between the two middle numbers"
   ]
  },
  {
   "cell_type": "code",
   "execution_count": 3,
   "metadata": {},
   "outputs": [
    {
     "data": {
      "text/plain": [
       "1991.0"
      ]
     },
     "execution_count": 3,
     "metadata": {},
     "output_type": "execute_result"
    }
   ],
   "source": [
    "np.median(birthday_list)"
   ]
  },
  {
   "cell_type": "markdown",
   "metadata": {},
   "source": [
    "### Mode\n",
    "\n",
    "The mode is the number that appears the most in a dataset."
   ]
  },
  {
   "cell_type": "code",
   "execution_count": 4,
   "metadata": {},
   "outputs": [
    {
     "data": {
      "text/plain": [
       "ModeResult(mode=array([1995]), count=array([5]))"
      ]
     },
     "execution_count": 4,
     "metadata": {},
     "output_type": "execute_result"
    }
   ],
   "source": [
    "stats.mode(birthday_list)"
   ]
  },
  {
   "cell_type": "markdown",
   "metadata": {},
   "source": [
    "### Measures of Spread\n",
    "While measures of central tendency tell us alot of where most of our data sits, within reason (well get into how this can change with other added variables)\n",
    "\n",
    "The first measure of spread that we will look at will be variance"
   ]
  },
  {
   "cell_type": "markdown",
   "metadata": {},
   "source": [
    "With this we see that most of the data is at the higher end of the spectrum, but the mean is lower than the mode, and so is the median. But what can this tell us about where our data is distubuted?\n"
   ]
  },
  {
   "cell_type": "markdown",
   "metadata": {},
   "source": [
    "### Distrubutions and density functions\n",
    "A distribution is a collection of counts of data on a variable. These scores are arranged in order from smallest to largest and then they can be viewed in a graph. If this sounds like a histogram to you, then you're right!\n",
    "Histograms are used in the form of line and bar charts to plot distributions.\n",
    "\n",
    "Lets plot this on a histogram to we can get a better idea of what this looks like, graphed"
   ]
  },
  {
   "cell_type": "code",
   "execution_count": 7,
   "metadata": {},
   "outputs": [
    {
     "data": {
      "image/png": "[encoded data removed]",
      "text/plain": [
       "<matplotlib.figure.Figure at 0x113ed1390>"
      ]
     },
     "metadata": {},
     "output_type": "display_data"
    }
   ],
   "source": [
    "plot.hist(birthday_list,bins=100)\n",
    "\n",
    "plot.show()"
   ]
  },
  {
   "cell_type": "markdown",
   "metadata": {},
   "source": [
    "It's already been observed by averages, means and modes that the bulk of the data seems to occur around low to mid nineties, with an average of about 1986. "
   ]
  }
 ],
 "metadata": {
  "kernelspec": {
   "display_name": "Python 3",
   "language": "python",
   "name": "python3"
  },
  "language_info": {
   "codemirror_mode": {
    "name": "ipython",
    "version": 3
   },
   "file_extension": ".py",
   "mimetype": "text/x-python",
   "name": "python",
   "nbconvert_exporter": "python",
   "pygments_lexer": "ipython3",
   "version": "3.6.5"
  }
 },
 "nbformat": 4,
 "nbformat_minor": 2
}
