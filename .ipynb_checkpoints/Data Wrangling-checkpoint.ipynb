{
 "cells": [
  {
   "cell_type": "code",
   "execution_count": 1,
   "metadata": {},
   "outputs": [],
   "source": [
    "# tie row data back to OOP"
   ]
  },
  {
   "cell_type": "markdown",
   "metadata": {},
   "source": [
    "# Data Wrangling and Collating\n",
    "\n",
    "#### *Data wrangling and collating* are large parts of the data science process, with the ability to correctly extract, transform and load data being known as ETL in the industry. Information can come in various forms, with a few of the most popular examples being:\n",
    "\n",
    "> - JSON APIs\n",
    "> - Text Scraping (Like Tweet Generator... remember that?)\n",
    "> - CSV Files (which can be dumps from)\n",
    "\n",
    "\n",
    "#### Let's start out by looking at a few examples of each.\n",
    "\n",
    "#### One of the most common file structures that you will see in industry and work with are **CSV files**.\n",
    "\n",
    "#### For our tutorial, we will take a look at the Titanic dataset and will use Pandas for working with our data."
   ]
  },
  {
   "cell_type": "markdown",
   "metadata": {},
   "source": [
    "## CSV Files, Rows and Columns\n",
    "\n",
    "#### CSV files constitute a large chuck of how data is represented due to their organizational structure and usage in industry. CSV files are commonly utilized as dumps for databases when their information must be represented in a format that can be exported to other programs or for backups.\n",
    "\n",
    "#### This file structure is important because perfectly represents a collection of EVENTS or occurrences in our data, and answers quantity or quality questions about that singular event, such as:\n",
    "\n",
    "- Who?\n",
    "- What?\n",
    "- When?\n",
    "- Where?\n",
    "- How?\n",
    "- How much?\n",
    "- How many?\n",
    "\n",
    "#### Each ROW in our CSV file represents a single occurrence, and is represented horizontally as follows:"
   ]
  },
  {
   "cell_type": "code",
   "execution_count": 2,
   "metadata": {},
   "outputs": [
    {
     "data": {
      "text/html": [
       "<div>\n",
       "<style scoped>\n",
       "    .dataframe tbody tr th:only-of-type {\n",
       "        vertical-align: middle;\n",
       "    }\n",
       "\n",
       "    .dataframe tbody tr th {\n",
       "        vertical-align: top;\n",
       "    }\n",
       "\n",
       "    .dataframe thead th {\n",
       "        text-align: right;\n",
       "    }\n",
       "</style>\n",
       "<table border=\"1\" class=\"dataframe\">\n",
       "  <thead>\n",
       "    <tr style=\"text-align: right;\">\n",
       "      <th></th>\n",
       "      <th>PassengerId</th>\n",
       "      <th>Survived</th>\n",
       "      <th>Pclass</th>\n",
       "      <th>Name</th>\n",
       "      <th>Sex</th>\n",
       "      <th>Age</th>\n",
       "      <th>SibSp</th>\n",
       "      <th>Parch</th>\n",
       "      <th>Ticket</th>\n",
       "      <th>Fare</th>\n",
       "      <th>Cabin</th>\n",
       "      <th>Embarked</th>\n",
       "    </tr>\n",
       "  </thead>\n",
       "  <tbody>\n",
       "    <tr>\n",
       "      <th>1</th>\n",
       "      <td>2</td>\n",
       "      <td>1</td>\n",
       "      <td>1</td>\n",
       "      <td>Cumings, Mrs. John Bradley (Florence Briggs Th...</td>\n",
       "      <td>female</td>\n",
       "      <td>38.0</td>\n",
       "      <td>1</td>\n",
       "      <td>0</td>\n",
       "      <td>PC 17599</td>\n",
       "      <td>71.2833</td>\n",
       "      <td>C85</td>\n",
       "      <td>C</td>\n",
       "    </tr>\n",
       "  </tbody>\n",
       "</table>\n",
       "</div>"
      ],
      "text/plain": [
       "   PassengerId  Survived  Pclass  \\\n",
       "1            2         1       1   \n",
       "\n",
       "                                                Name     Sex   Age  SibSp  \\\n",
       "1  Cumings, Mrs. John Bradley (Florence Briggs Th...  female  38.0      1   \n",
       "\n",
       "   Parch    Ticket     Fare Cabin Embarked  \n",
       "1      0  PC 17599  71.2833   C85        C  "
      ]
     },
     "execution_count": 2,
     "metadata": {},
     "output_type": "execute_result"
    }
   ],
   "source": [
    "import pandas as pd\n",
    "\n",
    "df = pd.read_csv('train.csv')\n",
    "df[1:2]"
   ]
  },
  {
   "cell_type": "markdown",
   "metadata": {},
   "source": [
    "#### The tags that float above the rows give a description to all of the values that every occurrence contains. \n",
    "\n",
    "#### These are called *columns* and describe a single measured FEATURE or ATTRIBUTES of all of the rows in a given dataset."
   ]
  },
  {
   "cell_type": "code",
   "execution_count": 3,
   "metadata": {},
   "outputs": [
    {
     "data": {
      "text/plain": [
       "0                              Braund, Mr. Owen Harris\n",
       "1    Cumings, Mrs. John Bradley (Florence Briggs Th...\n",
       "2                               Heikkinen, Miss. Laina\n",
       "3         Futrelle, Mrs. Jacques Heath (Lily May Peel)\n",
       "4                             Allen, Mr. William Henry\n",
       "Name: Name, dtype: object"
      ]
     },
     "execution_count": 3,
     "metadata": {},
     "output_type": "execute_result"
    }
   ],
   "source": [
    "df['Name'].head()"
   ]
  },
  {
   "cell_type": "markdown",
   "metadata": {},
   "source": [
    "## Header Rows\n",
    "\n",
    "The first row of a CSV file will sometimes contain the names of all of the columns. Pandas automatically captures the first row (Zero indexed) and (for its DataFrame representation) turns this into the *\"header\"*. This being said, there will be times that you will have to either change the header manually or set it yourself.\n",
    "\n",
    "This can be done executing:\n",
    "> - `df.rename()` (**renames the selected columns** and leaves the rest untouched)\n",
    "> - `df.columns` (**resets ALL of the columns** to whatever is contained in the inputted list of strings)"
   ]
  },
  {
   "cell_type": "code",
   "execution_count": 4,
   "metadata": {},
   "outputs": [
    {
     "data": {
      "text/html": [
       "<div>\n",
       "<style scoped>\n",
       "    .dataframe tbody tr th:only-of-type {\n",
       "        vertical-align: middle;\n",
       "    }\n",
       "\n",
       "    .dataframe tbody tr th {\n",
       "        vertical-align: top;\n",
       "    }\n",
       "\n",
       "    .dataframe thead th {\n",
       "        text-align: right;\n",
       "    }\n",
       "</style>\n",
       "<table border=\"1\" class=\"dataframe\">\n",
       "  <thead>\n",
       "    <tr style=\"text-align: right;\">\n",
       "      <th></th>\n",
       "      <th>A</th>\n",
       "      <th>B</th>\n",
       "    </tr>\n",
       "  </thead>\n",
       "  <tbody>\n",
       "    <tr>\n",
       "      <th>0</th>\n",
       "      <td>1</td>\n",
       "      <td>4</td>\n",
       "    </tr>\n",
       "    <tr>\n",
       "      <th>1</th>\n",
       "      <td>2</td>\n",
       "      <td>5</td>\n",
       "    </tr>\n",
       "    <tr>\n",
       "      <th>2</th>\n",
       "      <td>3</td>\n",
       "      <td>6</td>\n",
       "    </tr>\n",
       "  </tbody>\n",
       "</table>\n",
       "</div>"
      ],
      "text/plain": [
       "   A  B\n",
       "0  1  4\n",
       "1  2  5\n",
       "2  3  6"
      ]
     },
     "execution_count": 4,
     "metadata": {},
     "output_type": "execute_result"
    }
   ],
   "source": [
    "df_to_change = pd.DataFrame({\"A\": [1, 2, 3], \"B\": [4, 5, 6]})\n",
    "df_to_change"
   ]
  },
  {
   "cell_type": "code",
   "execution_count": 5,
   "metadata": {},
   "outputs": [
    {
     "data": {
      "text/html": [
       "<div>\n",
       "<style scoped>\n",
       "    .dataframe tbody tr th:only-of-type {\n",
       "        vertical-align: middle;\n",
       "    }\n",
       "\n",
       "    .dataframe tbody tr th {\n",
       "        vertical-align: top;\n",
       "    }\n",
       "\n",
       "    .dataframe thead th {\n",
       "        text-align: right;\n",
       "    }\n",
       "</style>\n",
       "<table border=\"1\" class=\"dataframe\">\n",
       "  <thead>\n",
       "    <tr style=\"text-align: right;\">\n",
       "      <th></th>\n",
       "      <th>First</th>\n",
       "      <th>Second</th>\n",
       "    </tr>\n",
       "  </thead>\n",
       "  <tbody>\n",
       "    <tr>\n",
       "      <th>0</th>\n",
       "      <td>1</td>\n",
       "      <td>4</td>\n",
       "    </tr>\n",
       "    <tr>\n",
       "      <th>1</th>\n",
       "      <td>2</td>\n",
       "      <td>5</td>\n",
       "    </tr>\n",
       "    <tr>\n",
       "      <th>2</th>\n",
       "      <td>3</td>\n",
       "      <td>6</td>\n",
       "    </tr>\n",
       "  </tbody>\n",
       "</table>\n",
       "</div>"
      ],
      "text/plain": [
       "   First  Second\n",
       "0      1       4\n",
       "1      2       5\n",
       "2      3       6"
      ]
     },
     "execution_count": 5,
     "metadata": {},
     "output_type": "execute_result"
    }
   ],
   "source": [
    "df_to_change = df_to_change.rename(index=str, columns={\"A\": \"First\", \"B\": \"Second\"})\n",
    "df_to_change"
   ]
  },
  {
   "cell_type": "code",
   "execution_count": 6,
   "metadata": {},
   "outputs": [
    {
     "data": {
      "text/html": [
       "<div>\n",
       "<style scoped>\n",
       "    .dataframe tbody tr th:only-of-type {\n",
       "        vertical-align: middle;\n",
       "    }\n",
       "\n",
       "    .dataframe tbody tr th {\n",
       "        vertical-align: top;\n",
       "    }\n",
       "\n",
       "    .dataframe thead th {\n",
       "        text-align: right;\n",
       "    }\n",
       "</style>\n",
       "<table border=\"1\" class=\"dataframe\">\n",
       "  <thead>\n",
       "    <tr style=\"text-align: right;\">\n",
       "      <th></th>\n",
       "      <th>Aye</th>\n",
       "      <th>Cardi B</th>\n",
       "    </tr>\n",
       "  </thead>\n",
       "  <tbody>\n",
       "    <tr>\n",
       "      <th>0</th>\n",
       "      <td>1</td>\n",
       "      <td>4</td>\n",
       "    </tr>\n",
       "    <tr>\n",
       "      <th>1</th>\n",
       "      <td>2</td>\n",
       "      <td>5</td>\n",
       "    </tr>\n",
       "    <tr>\n",
       "      <th>2</th>\n",
       "      <td>3</td>\n",
       "      <td>6</td>\n",
       "    </tr>\n",
       "  </tbody>\n",
       "</table>\n",
       "</div>"
      ],
      "text/plain": [
       "   Aye  Cardi B\n",
       "0    1        4\n",
       "1    2        5\n",
       "2    3        6"
      ]
     },
     "execution_count": 6,
     "metadata": {},
     "output_type": "execute_result"
    }
   ],
   "source": [
    "df_to_change.columns = ['Aye','Cardi B']\n",
    "df_to_change"
   ]
  },
  {
   "cell_type": "markdown",
   "metadata": {},
   "source": [
    "# Discussion: \n",
    "\n",
    "> - What are some pertinent questions that you may have that could be turned into features?\n",
    "> - Name some information from an application that would contain features that you could analyze?\n",
    "> - Why would you want to change the columns headers on a dataframe?"
   ]
  },
  {
   "cell_type": "markdown",
   "metadata": {},
   "source": [
    "## Data Dictionaries and describing your columns and features\n",
    "\n",
    "#### Another part of the data science process involves labeling your features and attributes in a manner that not only gets the point across of each feature, but also works as a way to verify that each feature's value is within the constraints of its definition.\n",
    "\n",
    "#### Generally the more descriptive your *data dictionary* is, the less trouble you will have with issues pertaining to taking care of null or NaN values. \n",
    "\n",
    "#### This will also be a boon to performing heavier statistical analysis on your data.\n",
    "\n",
    "#### Here is a sample data dictionary for the Titanic dataset for its ease of organization and comprehension. (By the way, tables like the following are one of the most useful forms of display!)\n",
    "\n",
    "<break>\n",
    "\n",
    "<center><h2>Titanic Data Dictionary</h2></center>\n",
    "\n",
    "\n",
    "| Variable | Definition                                        | Key                                            |\n",
    "|----------|---------------------------------------------------|------------------------------------------------|\n",
    "| Survived | Survival                                          | 0 = No, 1 = Yes                                |\n",
    "| Pclass   | Ticket Class (proxy for socio-economic status)    | 1 = 1st, 2 = 2nd, 3 = 3rd                      |\n",
    "| Sex      | Sex                                               | female, male                                   |\n",
    "| Age      | Age (in years)                                    | 0.6 = 81                                       |\n",
    "| SibSp    | # of siblings and/or spouses also aboard          |                                                |\n",
    "| Parch    | # of parents / children also aboard               |                                                |\n",
    "| Ticket   | Ticket number                                     |                                                |\n",
    "| Fare     | Passenger fare (how much their ticket cost)       |                                                |\n",
    "| Cabin    | Cabin number                                      |                                                |\n",
    "| Embarked | Port of Embarkation (where they boarded the ship) | C = Cherbourg, Q = Queenstown, S = Southampton |\n",
    "\n"
   ]
  },
  {
   "cell_type": "markdown",
   "metadata": {},
   "source": [
    "# Discussion:\n",
    "\n",
    "- Why are data dictionaries important?\n",
    "- What are some possible ways that an unclear or incorrect data dictionary could affect your work in analysis."
   ]
  },
  {
   "cell_type": "markdown",
   "metadata": {},
   "source": [
    "# Data types"
   ]
  },
  {
   "cell_type": "markdown",
   "metadata": {},
   "source": [
    "Data types in Pandas come in some of the same great flavors that youre used to working with in regular Python! \n",
    "\n",
    "This also means that these datatypes have all of the methods availible for use in your applications and analysis. You can see the datatypes of a Pandas column (also known as a *Series*) by using: `df.dtypes`\n",
    "\n",
    "\n",
    "Here are a few that are availalble:\n",
    "\n",
    "- **floats** - which will display as \"float64\"\n",
    "- **integers** - which will display as \"int64\"\n",
    "- **datetime** -  objects which will display as \"datetime64[ns]\"\n",
    "- **strings** - which will display as \"object\"\n",
    "\n",
    "\n",
    "Data types assist you in making sure that your data is stored as a single type of value in any given column or series.\n",
    "\n",
    "This is important because the operations that you will perform to index, transform or otherwise analyze require that all of the attributes in every row of a given column are the exact same."
   ]
  },
  {
   "cell_type": "code",
   "execution_count": 7,
   "metadata": {},
   "outputs": [
    {
     "data": {
      "text/plain": [
       "INT                  int64\n",
       "FLOAT              float64\n",
       "DATETIME    datetime64[ns]\n",
       "STRING              object\n",
       "dtype: object"
      ]
     },
     "metadata": {},
     "output_type": "display_data"
    }
   ],
   "source": [
    "df_datatypes = pd.DataFrame({'INT': [23],'FLOAT': [3.14], 'DATETIME': [pd.Timestamp('20181109')],'STRING': ['data science is pretty cool']})\n",
    "\n",
    "display(df_datatypes.dtypes)"
   ]
  },
  {
   "cell_type": "markdown",
   "metadata": {},
   "source": [
    "### Conversion of strings to numerical variables\n",
    "Another common important task is the casting of strings into their numerical equivalents in a dataframe or series. When data is scraped or is collected in CSV format, values that should be integers, floats or exponetial values will be read as strings.\n",
    "Pandas contains a to_numeric method which takes a list,numpy array or Series and converts each value into the appropriate notation"
   ]
  },
  {
   "cell_type": "code",
   "execution_count": 8,
   "metadata": {},
   "outputs": [
    {
     "data": {
      "text/plain": [
       "array([ 0.   ,  1.   ,  0.002])"
      ]
     },
     "metadata": {},
     "output_type": "display_data"
    }
   ],
   "source": [
    "number_list = ['0','1.0','2e-3']\n",
    "df_numeric = pd.to_numeric(number_list)\n",
    "display(df_numeric)"
   ]
  },
  {
   "cell_type": "markdown",
   "metadata": {},
   "source": [
    "## Categorical values and encoding\n",
    "\n",
    "Categorical values (also called nominal values) represent choices in data. But what how does that compare with what we've already seen? \n",
    "Well, we've seen boolean values in our data sets (yes and no in a poll or survived or not in the titanic dataset). But what if you have multiple values that you want to explore, or features that you would like to transform to better suit a complementing dataset? Or just converting something like text data into numbers for processing( More about this in DS 2.1). Pandas provides a way of dealing with this very issue in a clean and clear manner, called one-hot encoding. To execute this we will take the titanic datasets column for \"Embarked\" which tell us where a certain passenger boarded the titanic.\n",
    "\n",
    "Note that this column contains three choices for embarked that include: S for Southhampton, C for Cherboug, and Q for Queenstown"
   ]
  },
  {
   "cell_type": "code",
   "execution_count": 9,
   "metadata": {},
   "outputs": [
    {
     "data": {
      "text/plain": [
       "0      S\n",
       "1      C\n",
       "2      S\n",
       "3      S\n",
       "4      S\n",
       "5      Q\n",
       "6      S\n",
       "7      S\n",
       "8      S\n",
       "9      C\n",
       "10     S\n",
       "11     S\n",
       "12     S\n",
       "13     S\n",
       "14     S\n",
       "15     S\n",
       "16     Q\n",
       "17     S\n",
       "18     S\n",
       "19     C\n",
       "20     S\n",
       "21     S\n",
       "22     Q\n",
       "23     S\n",
       "24     S\n",
       "25     S\n",
       "26     C\n",
       "27     S\n",
       "28     Q\n",
       "29     S\n",
       "      ..\n",
       "861    S\n",
       "862    S\n",
       "863    S\n",
       "864    S\n",
       "865    S\n",
       "866    C\n",
       "867    S\n",
       "868    S\n",
       "869    S\n",
       "870    S\n",
       "871    S\n",
       "872    S\n",
       "873    S\n",
       "874    C\n",
       "875    C\n",
       "876    S\n",
       "877    S\n",
       "878    S\n",
       "879    C\n",
       "880    S\n",
       "881    S\n",
       "882    S\n",
       "883    S\n",
       "884    S\n",
       "885    Q\n",
       "886    S\n",
       "887    S\n",
       "888    S\n",
       "889    C\n",
       "890    Q\n",
       "Name: Embarked, Length: 891, dtype: object"
      ]
     },
     "execution_count": 9,
     "metadata": {},
     "output_type": "execute_result"
    }
   ],
   "source": [
    "df['Embarked']"
   ]
  },
  {
   "cell_type": "markdown",
   "metadata": {},
   "source": [
    "What if we just wanted to know, per row whether or not someone was in a certain class or not? One hot encoding is one way to resolve this issue\n",
    "\n",
    "## One-Hot Encoding\n",
    "\n",
    "Pandas provies a method named get_dummies() that does exactly that.\n",
    "\n",
    "### HOW THIS WORKS\n",
    "> - One hot encoding looks at a column or series that contains categorical data and takes note of the number of unique attributes for that column\n",
    "> - For each row, a new attribute is appended that corresponds to a unique attribute.\n",
    "> - For each row, the answer from the original non-encoded  column is checked and if that matches any of the new columns, a one is added as an attribute, while a zero is added to all of the others.\n",
    "\n"
   ]
  },
  {
   "cell_type": "code",
   "execution_count": 10,
   "metadata": {},
   "outputs": [
    {
     "data": {
      "text/html": [
       "<div>\n",
       "<style scoped>\n",
       "    .dataframe tbody tr th:only-of-type {\n",
       "        vertical-align: middle;\n",
       "    }\n",
       "\n",
       "    .dataframe tbody tr th {\n",
       "        vertical-align: top;\n",
       "    }\n",
       "\n",
       "    .dataframe thead th {\n",
       "        text-align: right;\n",
       "    }\n",
       "</style>\n",
       "<table border=\"1\" class=\"dataframe\">\n",
       "  <thead>\n",
       "    <tr style=\"text-align: right;\">\n",
       "      <th></th>\n",
       "      <th>C</th>\n",
       "      <th>Q</th>\n",
       "      <th>S</th>\n",
       "    </tr>\n",
       "  </thead>\n",
       "  <tbody>\n",
       "    <tr>\n",
       "      <th>0</th>\n",
       "      <td>0</td>\n",
       "      <td>0</td>\n",
       "      <td>1</td>\n",
       "    </tr>\n",
       "    <tr>\n",
       "      <th>1</th>\n",
       "      <td>1</td>\n",
       "      <td>0</td>\n",
       "      <td>0</td>\n",
       "    </tr>\n",
       "    <tr>\n",
       "      <th>2</th>\n",
       "      <td>0</td>\n",
       "      <td>0</td>\n",
       "      <td>1</td>\n",
       "    </tr>\n",
       "    <tr>\n",
       "      <th>3</th>\n",
       "      <td>0</td>\n",
       "      <td>0</td>\n",
       "      <td>1</td>\n",
       "    </tr>\n",
       "    <tr>\n",
       "      <th>4</th>\n",
       "      <td>0</td>\n",
       "      <td>0</td>\n",
       "      <td>1</td>\n",
       "    </tr>\n",
       "  </tbody>\n",
       "</table>\n",
       "</div>"
      ],
      "text/plain": [
       "   C  Q  S\n",
       "0  0  0  1\n",
       "1  1  0  0\n",
       "2  0  0  1\n",
       "3  0  0  1\n",
       "4  0  0  1"
      ]
     },
     "execution_count": 10,
     "metadata": {},
     "output_type": "execute_result"
    }
   ],
   "source": [
    "pd.get_dummies(pd.Series(df['Embarked'])).head()"
   ]
  },
  {
   "cell_type": "markdown",
   "metadata": {},
   "source": [
    "## Integer Encoding\n",
    "\n",
    "Another way to transform your data is Integer Encoding.\n",
    "\n",
    "What this does is it takes a cateorical feature that usually comes into a string form (or in some cases a range from numerical data can be used) and turns that corresponding string or range into a solid number.\n",
    "\n",
    "Lets take an example like a ratings systems and apply integer encoding to a pandas series. lets say we have ratings one a 1- 10 scale but only want to know if things are bad based off of a new system that assigns the following:\n",
    "\n",
    "0 - 3 = 1\n",
    "4 - 5 = 2\n",
    "6 - 7 = 3\n",
    "8 - 10 = 4\n",
    "\n",
    "This can be done using the Series.apply(method).\n",
    "\n",
    "This works via functional programming to transform the values in a dataframe column or series."
   ]
  },
  {
   "cell_type": "code",
   "execution_count": 11,
   "metadata": {},
   "outputs": [],
   "source": [
    "ratings = pd.DataFrame({\"A\": [1, 2, 3, 4, 5, 6, 7, 8, 9, 10]})\n",
    "\n",
    "def integer_encode(attribute):\n",
    "    if attribute <= 3:\n",
    "        return 1\n",
    "    elif attribute >= 3 and attribute <= 6:\n",
    "        return 2\n",
    "    elif attribute >= 6 and attribute <= 7:\n",
    "        return 3\n",
    "    else:\n",
    "        return 4\n",
    "    \n",
    "ratings['A'] =ratings['A'].apply(integer_encode)"
   ]
  },
  {
   "cell_type": "code",
   "execution_count": 12,
   "metadata": {},
   "outputs": [
    {
     "data": {
      "text/plain": [
       "0    1\n",
       "1    1\n",
       "2    1\n",
       "3    2\n",
       "4    2\n",
       "5    2\n",
       "6    3\n",
       "7    4\n",
       "8    4\n",
       "9    4\n",
       "Name: A, dtype: int64"
      ]
     },
     "execution_count": 12,
     "metadata": {},
     "output_type": "execute_result"
    }
   ],
   "source": [
    "ratings['A']"
   ]
  },
  {
   "cell_type": "markdown",
   "metadata": {},
   "source": [
    "## Dealing with missing values"
   ]
  },
  {
   "cell_type": "markdown",
   "metadata": {},
   "source": [
    "Missing values in data science are a common occurence in datasets. An example of this os when a statistic is taken and a value is unreported, or then the columns in a studied dataset has been updated, deprecated or changed"
   ]
  }
 ],
 "metadata": {
  "kernelspec": {
   "display_name": "Python 3",
   "language": "python",
   "name": "python3"
  },
  "language_info": {
   "codemirror_mode": {
    "name": "ipython",
    "version": 3
   },
   "file_extension": ".py",
   "mimetype": "text/x-python",
   "name": "python",
   "nbconvert_exporter": "python",
   "pygments_lexer": "ipython3",
   "version": "3.6.5"
  }
 },
 "nbformat": 4,
 "nbformat_minor": 2
}
