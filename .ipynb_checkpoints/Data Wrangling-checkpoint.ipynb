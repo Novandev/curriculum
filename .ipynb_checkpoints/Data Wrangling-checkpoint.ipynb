{
 "cells": [
  {
   "cell_type": "markdown",
   "metadata": {},
   "source": [
    "# Data Wrangling and Collating\n",
    "\n",
    "##### Data wranging and collating are large parts of the data sciecne proccess, with the abiity to correctly extract, transform and load data being known as (ETL) in the industry. Information can come in various forms, with a few of the most popular examples being:\n",
    "\n",
    "> - JSON APIs\n",
    "> - Text Scraping(Like TweetGen)\n",
    "> - CSV Files (which can be dumps from)\n",
    "\n",
    "\n",
    "##### Let's star out by looking at a few examples of each\n",
    "\n",
    "##### One of the most common file structures that you will see in industry and work with will be CSV files\n",
    "\n",
    "##### For our tutorial, we will take a look at the Titanic dataset"
   ]
  },
  {
   "cell_type": "markdown",
   "metadata": {},
   "source": [
    "## CSV Files, Rows and Columns\n",
    "##### CSV files constitute a large chuck of how data is respesented due to their organizational structure, and usage in industry. CSV files are commonly utilized as dumps for databases when their information must be represented in a format that can be exported to other programs or for backups.\n",
    "##### This file structure is important becuase perfectly represeents a collection of EVENTS or occurences in our data, and answers quantity or quality questions about that singular event, such as:\n",
    "##### Who?\n",
    "##### What?\n",
    "##### When?\n",
    "##### Where?\n",
    "##### How?\n",
    "##### How much?\n",
    "##### How Many?\n",
    "\n",
    "##### Each ROW in our csv file represents a single occurence, and is represented horizonatally as follow:\n",
    "\n"
   ]
  },
  {
   "cell_type": "code",
   "execution_count": 14,
   "metadata": {},
   "outputs": [
    {
     "data": {
      "text/html": [
       "<div>\n",
       "<style scoped>\n",
       "    .dataframe tbody tr th:only-of-type {\n",
       "        vertical-align: middle;\n",
       "    }\n",
       "\n",
       "    .dataframe tbody tr th {\n",
       "        vertical-align: top;\n",
       "    }\n",
       "\n",
       "    .dataframe thead th {\n",
       "        text-align: right;\n",
       "    }\n",
       "</style>\n",
       "<table border=\"1\" class=\"dataframe\">\n",
       "  <thead>\n",
       "    <tr style=\"text-align: right;\">\n",
       "      <th></th>\n",
       "      <th>PassengerId</th>\n",
       "      <th>Survived</th>\n",
       "      <th>Pclass</th>\n",
       "      <th>Name</th>\n",
       "      <th>Sex</th>\n",
       "      <th>Age</th>\n",
       "      <th>SibSp</th>\n",
       "      <th>Parch</th>\n",
       "      <th>Ticket</th>\n",
       "      <th>Fare</th>\n",
       "      <th>Cabin</th>\n",
       "      <th>Embarked</th>\n",
       "    </tr>\n",
       "  </thead>\n",
       "  <tbody>\n",
       "    <tr>\n",
       "      <th>1</th>\n",
       "      <td>2</td>\n",
       "      <td>1</td>\n",
       "      <td>1</td>\n",
       "      <td>Cumings, Mrs. John Bradley (Florence Briggs Th...</td>\n",
       "      <td>female</td>\n",
       "      <td>38.0</td>\n",
       "      <td>1</td>\n",
       "      <td>0</td>\n",
       "      <td>PC 17599</td>\n",
       "      <td>71.2833</td>\n",
       "      <td>C85</td>\n",
       "      <td>C</td>\n",
       "    </tr>\n",
       "  </tbody>\n",
       "</table>\n",
       "</div>"
      ],
      "text/plain": [
       "   PassengerId  Survived  Pclass  \\\n",
       "1            2         1       1   \n",
       "\n",
       "                                                Name     Sex   Age  SibSp  \\\n",
       "1  Cumings, Mrs. John Bradley (Florence Briggs Th...  female  38.0      1   \n",
       "\n",
       "   Parch    Ticket     Fare Cabin Embarked  \n",
       "1      0  PC 17599  71.2833   C85        C  "
      ]
     },
     "execution_count": 14,
     "metadata": {},
     "output_type": "execute_result"
    }
   ],
   "source": [
    "import pandas as pd\n",
    "\n",
    "df = pd.read_csv('train.csv')\n",
    "df[1:2]"
   ]
  },
  {
   "cell_type": "markdown",
   "metadata": {},
   "source": [
    "##### The tags that float above the rows, give a description to all of the values that every occurence contains. \n",
    "#### These are called columns and describe a single measured FEATURE or ATTRIBUTES of all of the rows in a given dataset"
   ]
  },
  {
   "cell_type": "code",
   "execution_count": 16,
   "metadata": {},
   "outputs": [
    {
     "data": {
      "text/plain": [
       "0                              Braund, Mr. Owen Harris\n",
       "1    Cumings, Mrs. John Bradley (Florence Briggs Th...\n",
       "2                               Heikkinen, Miss. Laina\n",
       "3         Futrelle, Mrs. Jacques Heath (Lily May Peel)\n",
       "4                             Allen, Mr. William Henry\n",
       "Name: Name, dtype: object"
      ]
     },
     "execution_count": 16,
     "metadata": {},
     "output_type": "execute_result"
    }
   ],
   "source": [
    "df['Name'].head()"
   ]
  },
  {
   "cell_type": "markdown",
   "metadata": {},
   "source": [
    "## Header Rows\n",
    "\n",
    "The first row of a csv file will sometimes contain the names of all of the columns. Panda automatically captures the first row (Zero indexed) and for its dataframe representation turns this into the \"header\". This being said, there will be times that you will have to either change, or set the header yourself.\n",
    "\n",
    "This can be done executing:\n",
    "> - df.rename (which will only rename the selected columns and leave the rest untouched)\n",
    "> - df.columns (Which will reset ALL of the columns to whatever is contained in the strings in the list)"
   ]
  },
  {
   "cell_type": "code",
   "execution_count": 20,
   "metadata": {},
   "outputs": [
    {
     "data": {
      "text/html": [
       "<div>\n",
       "<style scoped>\n",
       "    .dataframe tbody tr th:only-of-type {\n",
       "        vertical-align: middle;\n",
       "    }\n",
       "\n",
       "    .dataframe tbody tr th {\n",
       "        vertical-align: top;\n",
       "    }\n",
       "\n",
       "    .dataframe thead th {\n",
       "        text-align: right;\n",
       "    }\n",
       "</style>\n",
       "<table border=\"1\" class=\"dataframe\">\n",
       "  <thead>\n",
       "    <tr style=\"text-align: right;\">\n",
       "      <th></th>\n",
       "      <th>A</th>\n",
       "      <th>B</th>\n",
       "    </tr>\n",
       "  </thead>\n",
       "  <tbody>\n",
       "    <tr>\n",
       "      <th>0</th>\n",
       "      <td>1</td>\n",
       "      <td>4</td>\n",
       "    </tr>\n",
       "    <tr>\n",
       "      <th>1</th>\n",
       "      <td>2</td>\n",
       "      <td>5</td>\n",
       "    </tr>\n",
       "    <tr>\n",
       "      <th>2</th>\n",
       "      <td>3</td>\n",
       "      <td>6</td>\n",
       "    </tr>\n",
       "  </tbody>\n",
       "</table>\n",
       "</div>"
      ],
      "text/plain": [
       "   A  B\n",
       "0  1  4\n",
       "1  2  5\n",
       "2  3  6"
      ]
     },
     "execution_count": 20,
     "metadata": {},
     "output_type": "execute_result"
    }
   ],
   "source": [
    "df_to_change = pd.DataFrame({\"A\": [1, 2, 3], \"B\": [4, 5, 6]})\n",
    "\n",
    "df_to_change"
   ]
  },
  {
   "cell_type": "code",
   "execution_count": 24,
   "metadata": {},
   "outputs": [
    {
     "data": {
      "text/html": [
       "<div>\n",
       "<style scoped>\n",
       "    .dataframe tbody tr th:only-of-type {\n",
       "        vertical-align: middle;\n",
       "    }\n",
       "\n",
       "    .dataframe tbody tr th {\n",
       "        vertical-align: top;\n",
       "    }\n",
       "\n",
       "    .dataframe thead th {\n",
       "        text-align: right;\n",
       "    }\n",
       "</style>\n",
       "<table border=\"1\" class=\"dataframe\">\n",
       "  <thead>\n",
       "    <tr style=\"text-align: right;\">\n",
       "      <th></th>\n",
       "      <th>First</th>\n",
       "      <th>Second</th>\n",
       "    </tr>\n",
       "  </thead>\n",
       "  <tbody>\n",
       "    <tr>\n",
       "      <th>0</th>\n",
       "      <td>1</td>\n",
       "      <td>4</td>\n",
       "    </tr>\n",
       "    <tr>\n",
       "      <th>1</th>\n",
       "      <td>2</td>\n",
       "      <td>5</td>\n",
       "    </tr>\n",
       "    <tr>\n",
       "      <th>2</th>\n",
       "      <td>3</td>\n",
       "      <td>6</td>\n",
       "    </tr>\n",
       "  </tbody>\n",
       "</table>\n",
       "</div>"
      ],
      "text/plain": [
       "   First  Second\n",
       "0      1       4\n",
       "1      2       5\n",
       "2      3       6"
      ]
     },
     "execution_count": 24,
     "metadata": {},
     "output_type": "execute_result"
    }
   ],
   "source": [
    "df_to_change =df_to_change.rename(index=str, columns={\"A\": \"First\", \"B\": \"Second\"})\n",
    "df_to_change"
   ]
  },
  {
   "cell_type": "code",
   "execution_count": 26,
   "metadata": {},
   "outputs": [
    {
     "data": {
      "text/html": [
       "<div>\n",
       "<style scoped>\n",
       "    .dataframe tbody tr th:only-of-type {\n",
       "        vertical-align: middle;\n",
       "    }\n",
       "\n",
       "    .dataframe tbody tr th {\n",
       "        vertical-align: top;\n",
       "    }\n",
       "\n",
       "    .dataframe thead th {\n",
       "        text-align: right;\n",
       "    }\n",
       "</style>\n",
       "<table border=\"1\" class=\"dataframe\">\n",
       "  <thead>\n",
       "    <tr style=\"text-align: right;\">\n",
       "      <th></th>\n",
       "      <th>A</th>\n",
       "      <th>B</th>\n",
       "    </tr>\n",
       "  </thead>\n",
       "  <tbody>\n",
       "    <tr>\n",
       "      <th>0</th>\n",
       "      <td>1</td>\n",
       "      <td>4</td>\n",
       "    </tr>\n",
       "    <tr>\n",
       "      <th>1</th>\n",
       "      <td>2</td>\n",
       "      <td>5</td>\n",
       "    </tr>\n",
       "    <tr>\n",
       "      <th>2</th>\n",
       "      <td>3</td>\n",
       "      <td>6</td>\n",
       "    </tr>\n",
       "  </tbody>\n",
       "</table>\n",
       "</div>"
      ],
      "text/plain": [
       "   A  B\n",
       "0  1  4\n",
       "1  2  5\n",
       "2  3  6"
      ]
     },
     "execution_count": 26,
     "metadata": {},
     "output_type": "execute_result"
    }
   ],
   "source": [
    "df_to_change.columns =['A','B']\n",
    "df_to_change"
   ]
  },
  {
   "cell_type": "markdown",
   "metadata": {},
   "source": [
    "Discussion: \n",
    "What are some pertinent questions that you may have that could be turned into features?\n",
    "Name some information from your own applications that would contain features that you could analyze?\n",
    "Why would you want to change the columns headers on a dataframe?"
   ]
  },
  {
   "cell_type": "markdown",
   "metadata": {},
   "source": [
    "## Data Dictionaries and describing your columns and features\n",
    "\n",
    "##### Another part of he data science process involves labeling your features and attributes in a manner that not only gets the point accross of each feature, but also works as a way to verify that each features value is within the constraints of its definition\n",
    "\n",
    "##### Generally the more descriptive your data dictionary is, the less trouble you will have with issues pertaining to taking care of null or NAN values. This will also be a boon to performing heavier statistical analysis on your data.\n",
    "\n",
    "##### Here is an example dictionary for the titanic dataset for it's ease of orgnization and comprehension, a table is one of the most useful forms of display\n",
    "\n",
    "<center><h2>Titanic Data Dictionary</h2></center>\n",
    "\n",
    "\n",
    "| Variable | Definition                                        | Key                                            |\n",
    "|----------|---------------------------------------------------|------------------------------------------------|\n",
    "| Survived | Survival                                          | 0 = No, 1 = Yes                                |\n",
    "| Pclass   | Ticket Class (proxy for socio-economic status)    | 1 = 1st, 2 = 2nd, 3 = 3rd                      |\n",
    "| Sex      | Sex                                               | female, male                                   |\n",
    "| Age      | Age (in years)                                    | 0.6 = 81                                       |\n",
    "| SibSp    | # of siblings and/or spouses also aboard          |                                                |\n",
    "| Parch    | # of parents / children also aboard               |                                                |\n",
    "| Ticket   | Ticket number                                     |                                                |\n",
    "| Fare     | Passenger fare (how much their ticket cost)       |                                                |\n",
    "| Cabin    | Cabin number                                      |                                                |\n",
    "| Embarked | Port of Embarkation (where they boarded the ship) | C = Cherbourg, Q = Queenstown, S = Southampton |\n",
    "\n"
   ]
  },
  {
   "cell_type": "markdown",
   "metadata": {},
   "source": [
    "Discussion:\n",
    "Why are data dictionaries important?\n",
    "What are some possible ways that an unclear or incorrect data dictionary could affect your work in analysis.\n"
   ]
  },
  {
   "cell_type": "markdown",
   "metadata": {},
   "source": [
    "# Data types"
   ]
  },
  {
   "cell_type": "markdown",
   "metadata": {},
   "source": [
    "Dataypes in pandas come in some of the same great flavors that youre used to working with in regular python! This also means that these datatypes have all of the methods availible for use in your applications and analysis'. You can see the datatypes of a pandas columns( also known as a series) by using: df.dtypes\n",
    "\n",
    "\n",
    "Here are a few that are availalble:\n",
    "\n",
    "floats - which will display as \"float64\"\n",
    "integers - which will display as \"int64\"\n",
    "datetime -  objects which will display as \"datetime64[ns]\"\n",
    "string strings, which will display as \"object\"\n",
    "\n",
    "\n",
    "Dataypes assis you in making sure that your data is stored as a single type of value in any given column or series. Which is important becoase the operations that you will perform to index, transform or  perform analysis on require that all of the attributes in every row of a given column are the exact same"
   ]
  },
  {
   "cell_type": "code",
   "execution_count": 28,
   "metadata": {},
   "outputs": [
    {
     "data": {
      "text/plain": [
       "int                  int64\n",
       "float              float64\n",
       "datetime    datetime64[ns]\n",
       "string              object\n",
       "dtype: object"
      ]
     },
     "metadata": {},
     "output_type": "display_data"
    }
   ],
   "source": [
    "df_datatypes = pd.DataFrame({'int': [23],'float': [3.14], 'datetime': [pd.Timestamp('20181109')],'string': ['this is a string']})\n",
    "\n",
    "display(df_datatypes.dtypes)"
   ]
  }
 ],
 "metadata": {
  "kernelspec": {
   "display_name": "Python 3",
   "language": "python",
   "name": "python3"
  },
  "language_info": {
   "codemirror_mode": {
    "name": "ipython",
    "version": 3
   },
   "file_extension": ".py",
   "mimetype": "text/x-python",
   "name": "python",
   "nbconvert_exporter": "python",
   "pygments_lexer": "ipython3",
   "version": "3.6.5"
  }
 },
 "nbformat": 4,
 "nbformat_minor": 2
}
