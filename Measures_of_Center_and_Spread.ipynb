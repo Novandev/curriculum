{
 "cells": [
  {
   "cell_type": "markdown",
   "metadata": {},
   "source": [
    "# Review of histograms, mean, median, and mode \n",
    "\n",
    "### <a href=\"https://www.purplemath.com/modules/meanmode.htm\">Readings on Mean, Median and Mode</a>\n",
    "\n",
    "Measuring the occurence of events(how many times did it happen)  is core to how statistics works, with one of the most common representations occurences being a histogram.\n",
    "\n",
    "To recap, a histogram works by counting up all of the number of occurrances of individual events, then tallying up the count of each event. An example would be birth dates which might look like this\n",
    "\n",
    "\n",
    "\n",
    "|Year born|\n",
    "|------|\n",
    "|1995|\n",
    "|1996|\n",
    "|1995|\n",
    "|2000|\n",
    "|1989|\n",
    "|1990|\n",
    "|1976|\n",
    "|1950|\n",
    "|2001|\n",
    "\n",
    "Lets look at a slightly larger sample of birthdays programatically"
   ]
  },
  {
   "cell_type": "code",
   "execution_count": 32,
   "metadata": {},
   "outputs": [],
   "source": [
    "import numpy as np\n",
    "from scipy import stats\n",
    "import matplotlib.pyplot as plot\n",
    "birthday_list = np.array([1904, 1995, 1995, 1995, 1995, 1995, 2000, 1989, 1990, 1976, 1950, 1949, 2001, 1992, 1986, 1997, 1987, 1976, 1985, 1993, 1981, 1960, 1970, 1989, 2000, 1976, 1979, 1991, 1962, 1990])"
   ]
  },
  {
   "cell_type": "markdown",
   "metadata": {},
   "source": [
    "### Measures of Central Tendency\n",
    "\n",
    "Intuition tell us that if you had to choose a single value to represent an entire sample space, you’d pick a value near the center of the distrubution of events, since those values SHOULD tend to appear the most often.\n",
    "This is seen most commonly as the mean, median and mode."
   ]
  },
  {
   "cell_type": "markdown",
   "metadata": {},
   "source": [
    "#### Mean\n",
    "To recap, the mean calculates the average number of occurences, or the average numerical value if all the data was distributed evenly among all of the samples.\n",
    "\n",
    "\n",
    "mean - total number of occurences/ sum of values"
   ]
  },
  {
   "cell_type": "code",
   "execution_count": 24,
   "metadata": {},
   "outputs": [
    {
     "data": {
      "text/plain": [
       "1981.5999999999999"
      ]
     },
     "execution_count": 24,
     "metadata": {},
     "output_type": "execute_result"
    }
   ],
   "source": [
    "birthday_list.mean()"
   ]
  },
  {
   "cell_type": "markdown",
   "metadata": {},
   "source": [
    "#### Median\n",
    "\n",
    "The median is the middle value,  that represents half of the numbers being above and half of the nubers being below it. \n",
    "\n",
    "This number may or may not be in the dataset, as an even number of elements means finding the average between the two middle numbers"
   ]
  },
  {
   "cell_type": "code",
   "execution_count": 25,
   "metadata": {},
   "outputs": [
    {
     "data": {
      "text/plain": [
       "1989.0"
      ]
     },
     "execution_count": 25,
     "metadata": {},
     "output_type": "execute_result"
    }
   ],
   "source": [
    "np.median(birthday_list)"
   ]
  },
  {
   "cell_type": "markdown",
   "metadata": {},
   "source": [
    "#### Mode\n",
    "\n",
    "The mode is the number that appears the most in a dataset."
   ]
  },
  {
   "cell_type": "code",
   "execution_count": 26,
   "metadata": {},
   "outputs": [
    {
     "data": {
      "text/plain": [
       "ModeResult(mode=array([1995]), count=array([5]))"
      ]
     },
     "execution_count": 26,
     "metadata": {},
     "output_type": "execute_result"
    }
   ],
   "source": [
    "stats.mode(birthday_list)"
   ]
  },
  {
   "cell_type": "markdown",
   "metadata": {},
   "source": [
    "If this sounds like a visualization of histogram to you, then you're right!\n",
    "Histograms are normally used in the form bar charts to plot distributions.\n",
    "Lets plot this, so we can get a better idea of what this looks like graphed."
   ]
  },
  {
   "cell_type": "code",
   "execution_count": 28,
   "metadata": {},
   "outputs": [
    {
     "data": {
      "image/png": "[encoded data removed]",
      "text/plain": [
       "<matplotlib.figure.Figure at 0x1a17f6fb70>"
      ]
     },
     "metadata": {},
     "output_type": "display_data"
    }
   ],
   "source": [
    "plot.hist(birthday_list, bins=100)\n",
    "\n",
    "plot.show()"
   ]
  },
  {
   "cell_type": "markdown",
   "metadata": {},
   "source": [
    "With this we see that most of the data is at the higher end of the spectrum but the mean is lower than the mode and so is the median. The bulk of the data seems to occur around low to mid nineties, with an average of about 1980. Most of the data, however, seems to be clustered around the mid 80 to mid 90's. Also, there seems to be a spikes at both ends.\n",
    "But what can this tell us about where our data is distubuted?"
   ]
  },
  {
   "cell_type": "markdown",
   "metadata": {},
   "source": [
    "### Measures of Spread\n",
    "\n",
    "While measures of central tendency tell us alot of where most of our data sits within reason (well get into how this can change with other added variables), these don't tell us about how spread out or data is, just where it's clustered. What if we needed to know how far our data is spread out from our average number?\n",
    "\n",
    "A good measure of spread should satisfy the following:\n",
    "\n",
    "> - The measure should be proportional to the scatter of the data (small when the data are clustered together, and large when the data are widely scattered).\n",
    "> - The measure should be independent of the number of values in the data set (otherwise, simply by taking more measurements the value would increase even if the scatter of the data was not increasing).\n",
    "> - The measure should be independent of the mean (since now we are only interested in the spread of the data, not its central tendency).\n",
    "\n",
    "The two most important measures of spread that are used to measure this are Variance and Standard Deviation"
   ]
  },
  {
   "cell_type": "markdown",
   "metadata": {},
   "source": [
    "#### Variance and Standard Deviation\n",
    "\n",
    "\n",
    "The variance is a measure of how far each value in the dataset is from the mean. It wont be neccessary for you to do the calulations by hand\n",
    "\n",
    "> - Subtract the mean from each measured in the dataset. (This will also give you the distance of each value from the mean.)\n",
    "> - Square each of the distances from the mean (so that they are all positive values, ), and add all of the squares together.\n",
    "> - Divide the sum of the squares that were calculted in the step above by the number of values in the data set.\n",
    "\n",
    "Standard Deviation is just the square root of variance which puts the units in standard deviation back into the same units as the data that you are measuring. This tends to be the most used and important of the two for a variety of reasons we'll get into below.\n",
    "\n"
   ]
  },
  {
   "cell_type": "markdown",
   "metadata": {},
   "source": [
    "### But why is this important???\n",
    "\n",
    "The Standard Deviation gives us a tool to measure what a range of \"normal\" data from looks like. STD as a value tells us that any observed value in that range isn't an outlier. Lets talk about heights to get a better example of STD and outliers.\n",
    "\n",
    "<blockquote>\n",
    "Adult male heights in a measured nation are on average 68 inches (or about 5'8) with a standard deviation of 3 inches. In that same nation, adult women are on average a bit shorter and less variable in height with a mean height of 62  inches (5'2) and standard deviation of 2.5 inches. \n",
    "</blockquote>\n",
    "\n"
   ]
  },
  {
   "cell_type": "markdown",
   "metadata": {},
   "source": [
    "What this tells us is that for a man, a \"normal\" height is anywhere from 5'5\" to 5'11\", while for women in this nation a \"normal\" height is anywhere from about 4'11\" to 5'5\""
   ]
  },
  {
   "cell_type": "markdown",
   "metadata": {},
   "source": [
    "<img src=\"men_women_height.jpg\">"
   ]
  },
  {
   "cell_type": "markdown",
   "metadata": {},
   "source": [
    "### ACTIVITY:\n",
    "Using pandas.series .std() method find the standard deviation on any column in the BMI data set. Turn to a partner and discuss what values would be \"normal\" or \"weird\" based off of the STD for a columns.\n"
   ]
  },
  {
   "cell_type": "markdown",
   "metadata": {},
   "source": [
    "### Distributions and Skew\n",
    "\n",
    "Data can be \"distributed\" (or spread out about the mean) in different ways.\n",
    "A distribution is a collection of counts of data on a variable and how they cluster(or don't) around the average. The data is arranged in order from smallest to largest and then they can be viewed in a graph. You've seen this before in plotting a histogram.\n",
    "\n",
    "### How skew works and why it's important\n",
    "\n",
    "Skew gives you a solid indication of how close the median and mean are to eachother. Recall that the median value you"
   ]
  },
  {
   "cell_type": "code",
   "execution_count": 33,
   "metadata": {},
   "outputs": [
    {
     "data": {
      "image/png": "[encoded data removed]",
      "text/plain": [
       "<matplotlib.figure.Figure at 0x1a182706d8>"
      ]
     },
     "metadata": {},
     "output_type": "display_data"
    }
   ],
   "source": [
    "plot.hist(birthday_list, bins=100)\n",
    "\n",
    "plot.show()"
   ]
  },
  {
   "cell_type": "markdown",
   "metadata": {},
   "source": [
    "So the highest number in our set is a birthday year of 2001, and the lowest is 1904, with an average year of about 1981, with half of our years being above 1989 and half above, the most common being year 1995......Wait a second so our mean, median and mode arent the same? \n",
    "\n"
   ]
  }
 ],
 "metadata": {
  "kernelspec": {
   "display_name": "Python 3",
   "language": "python",
   "name": "python3"
  },
  "language_info": {
   "codemirror_mode": {
    "name": "ipython",
    "version": 3
   },
   "file_extension": ".py",
   "mimetype": "text/x-python",
   "name": "python",
   "nbconvert_exporter": "python",
   "pygments_lexer": "ipython3",
   "version": "3.6.5"
  }
 },
 "nbformat": 4,
 "nbformat_minor": 2
}
