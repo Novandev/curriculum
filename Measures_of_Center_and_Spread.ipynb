{
 "cells": [
  {
   "cell_type": "markdown",
   "metadata": {},
   "source": [
    "# Review of histograms, mean, median, and mode \n",
    "\n",
    "### <a href=\"https://www.purplemath.com/modules/meanmode.htm\">Readings on Mean, Median and Mode</a>\n",
    "\n",
    "Measuring the occurence of events (how many times did it happen) is core to how statistics works, with one of the most common representations of occurrences being a histogram.\n",
    "\n",
    "To recap, a histogram works by counting up all of the number of occurrences of individual events, then tallying up the count of each event. \n",
    "\n",
    "An example would be birth dates which might look like this:\n",
    "\n",
    "\n",
    "\n",
    "|Year born|\n",
    "|------|\n",
    "|1995|\n",
    "|1996|\n",
    "|1995|\n",
    "|2000|\n",
    "|1989|\n",
    "|1990|\n",
    "|1976|\n",
    "|1950|\n",
    "|2001|\n",
    "\n",
    "Let's look at a slightly larger sample of birthdays programmatically!"
   ]
  },
  {
   "cell_type": "code",
   "execution_count": 48,
   "metadata": {},
   "outputs": [],
   "source": [
    "import pandas as pd\n",
    "import numpy as np\n",
    "from scipy import stats\n",
    "import matplotlib.pyplot as plot\n",
    "% matplotlib inline\n",
    "\n",
    "birthday_list = np.array([1904, 1995, 1995, 1995, 1995, 1995, 2000, 1989, 1990, 1976, 1950, 1949, 2001, 1992, 1986, 1997, 1987, 1976, 1985, 1993, 1981, 1960, 1970, 1989, 2000, 1976, 1979, 1991, 1962, 1990])"
   ]
  },
  {
   "cell_type": "markdown",
   "metadata": {},
   "source": [
    "### Measures of Central Tendency\n",
    "\n",
    "Intuition tell us that if you had to choose a single value to represent an entire sample space, you’d pick a value near the center of the distribution of events, since those values **SHOULD** tend to appear the most often.\n",
    "\n",
    "This is seen most commonly as the *mean, median* or *mode.*"
   ]
  },
  {
   "cell_type": "markdown",
   "metadata": {},
   "source": [
    "### Mean\n",
    "\n",
    "To recap, the mean calculates the average number of occurences, or the average numerical value if all the data was distributed evenly among all of the samples.\n",
    "\n",
    "\n",
    "mean - total number of occurences/ sum of values"
   ]
  },
  {
   "cell_type": "code",
   "execution_count": 2,
   "metadata": {},
   "outputs": [
    {
     "data": {
      "text/plain": [
       "1981.5999999999999"
      ]
     },
     "execution_count": 2,
     "metadata": {},
     "output_type": "execute_result"
    }
   ],
   "source": [
    "birthday_list.mean()"
   ]
  },
  {
   "cell_type": "markdown",
   "metadata": {},
   "source": [
    "#### Median\n",
    "\n",
    "The median is the middle value,  that represents half of the numbers being above and half of the nubers being below it. \n",
    "\n",
    "This number may or may not be in the dataset, as an even number of elements means finding the average between the two middle numbers"
   ]
  },
  {
   "cell_type": "code",
   "execution_count": 3,
   "metadata": {},
   "outputs": [
    {
     "data": {
      "text/plain": [
       "1989.0"
      ]
     },
     "execution_count": 3,
     "metadata": {},
     "output_type": "execute_result"
    }
   ],
   "source": [
    "np.median(birthday_list)"
   ]
  },
  {
   "cell_type": "markdown",
   "metadata": {},
   "source": [
    "#### Mode\n",
    "\n",
    "The mode is the number that appears the most in a dataset."
   ]
  },
  {
   "cell_type": "code",
   "execution_count": 4,
   "metadata": {},
   "outputs": [
    {
     "data": {
      "text/plain": [
       "ModeResult(mode=array([1995]), count=array([5]))"
      ]
     },
     "execution_count": 4,
     "metadata": {},
     "output_type": "execute_result"
    }
   ],
   "source": [
    "stats.mode(birthday_list)"
   ]
  },
  {
   "cell_type": "markdown",
   "metadata": {},
   "source": [
    "If this sounds like a visualization of histogram to you, then you're right!\n",
    "Histograms are normally used in the form bar charts to plot distributions.\n",
    "Lets plot this, so we can get a better idea of what this looks like graphed."
   ]
  },
  {
   "cell_type": "code",
   "execution_count": 5,
   "metadata": {},
   "outputs": [
    {
     "data": {
      "image/png": "[encoded data removed]",
      "text/plain": [
       "<matplotlib.figure.Figure at 0x10f60da20>"
      ]
     },
     "metadata": {},
     "output_type": "display_data"
    }
   ],
   "source": [
    "plot.hist(birthday_list, bins=100)\n",
    "\n",
    "plot.show()"
   ]
  },
  {
   "cell_type": "markdown",
   "metadata": {},
   "source": [
    "With this we see that most of the data is at the higher end of the spectrum but the mean is lower than the mode and so is the median. The bulk of the data seems to occur around low to mid nineties, with an average of about 1980. Most of the data, however, seems to be clustered around the mid 80 to mid 90's. Also, there seems to be a spikes at both ends.\n",
    "But what can this tell us about where our data is distubuted?"
   ]
  },
  {
   "cell_type": "markdown",
   "metadata": {},
   "source": [
    "### Measures of Spread\n",
    "\n",
    "While measures of central tendency tell us alot of where most of our data sits within reason (well get into how this can change with other added variables), these don't tell us about how spread out or data is, just where it's clustered. What if we needed to know how far our data is spread out from our average number?\n",
    "\n",
    "A good measure of spread should satisfy the following:\n",
    "\n",
    "> - The measure should be proportional to the scatter of the data (small when the data are clustered together, and large when the data are widely scattered).\n",
    "> - The measure should be independent of the number of values in the data set (otherwise, simply by taking more measurements the value would increase even if the scatter of the data was not increasing).\n",
    "> - The measure should be independent of the mean (since now we are only interested in the spread of the data, not its central tendency).\n",
    "\n",
    "The two most important measures of spread that are used to measure this are Variance and Standard Deviation"
   ]
  },
  {
   "cell_type": "markdown",
   "metadata": {},
   "source": [
    "#### Variance and Standard Deviation\n",
    "\n",
    "\n",
    "The variance is a measure of how far each value in the dataset is from the mean. It wont be neccessary for you to do the calulations by hand\n",
    "\n",
    "> - Subtract the mean from each measured in the dataset. (This will also give you the distance of each value from the mean.)\n",
    "> - Square each of the distances from the mean (so that they are all positive values, ), and add all of the squares together.\n",
    "> - Divide the sum of the squares that were calculted in the step above by the number of values in the data set.\n",
    "\n",
    "Standard Deviation is just the square root of variance which puts the units in standard deviation back into the same units as the data that you are measuring. This tends to be the most used and important of the two for a variety of reasons we'll get into below.\n",
    "\n"
   ]
  },
  {
   "cell_type": "markdown",
   "metadata": {},
   "source": [
    "### But why is this important???\n",
    "\n",
    "\n",
    "\n",
    "The Standard Deviation gives us a tool to measure what a range of \"normal\" data from looks like. STD as a value tells us that any observed value in that range isn't an outlier. Lets talk about heights to get a better example of STD and outliers.\n",
    "\n",
    "<blockquote>\n",
    "Adult male heights in a measured nation are on average 68 inches (or about 5'8) with a standard deviation of 3 inches. In that same nation, adult women are on average a bit shorter and less variable in height with a mean height of 62  inches (5'2) and standard deviation of 2.5 inches. \n",
    "</blockquote>\n",
    "\n"
   ]
  },
  {
   "cell_type": "markdown",
   "metadata": {},
   "source": [
    "What this tells us is that for a man, a \"normal\" height is anywhere from 5'5\" to 5'11\", while for women in this nation a \"normal\" height is anywhere from about 4'11\" to 5'5\""
   ]
  },
  {
   "cell_type": "markdown",
   "metadata": {},
   "source": [
    "<img src=\"men_women_height.jpg\">"
   ]
  },
  {
   "cell_type": "markdown",
   "metadata": {},
   "source": [
    "### ACTIVITY:\n",
    "Using pandas.series .std() method find the standard deviation on any column in the BMI data set. Turn to a partner and discuss what values would be \"normal\" or \"weird\" based off of the STD for a columns.\n"
   ]
  },
  {
   "cell_type": "code",
   "execution_count": 8,
   "metadata": {},
   "outputs": [],
   "source": [
    "# TODO: import the BMI dataset using the std() \n",
    "bmi_df = pd.read_csv('bmi.csv')"
   ]
  },
  {
   "cell_type": "code",
   "execution_count": 75,
   "metadata": {},
   "outputs": [],
   "source": [
    "# practice here"
   ]
  },
  {
   "cell_type": "markdown",
   "metadata": {},
   "source": [
    "## Distributions and Skew\n",
    "\n",
    "Data can be \"distributed\" (or spread out about the mean) in different ways.\n",
    "A distribution is a collection of counts of data on a variable and how they cluster (or don't) around the average. The data is arranged in order from smallest to largest and then they can be viewed in a graph. You've seen this before in plotting a histogram.\n",
    "\n",
    "### How skew works and why it's important\n",
    "\n",
    "Skew gives you a solid indication of not only how close the median and mean are to eachother, but it gives you an idea of which side most of your data will tend to. Recall that the median value tells you that half your data points lie below and above that point, while the mean is the averge. If more individual datapoints are on one side of the median, it forms a tail and this is said to be skewed. Let's take a took at a few distributions to get a better idea of how data can be skewed."
   ]
  },
  {
   "cell_type": "markdown",
   "metadata": {},
   "source": [
    "### Positive Skew\n",
    "A positive skew indicates that the longer tail of the distribution of data points lies to the right of the median, and therefore so does the mean. What this means is that there's a bigger range of values beyond the median. A good example would be age distribution in the titanic dataset. Let's give this a look in a graph, then we'll get into some numbers."
   ]
  },
  {
   "cell_type": "code",
   "execution_count": 12,
   "metadata": {},
   "outputs": [
    {
     "data": {
      "text/plain": [
       "<matplotlib.axes._subplots.AxesSubplot at 0x1a1dec60f0>"
      ]
     },
     "execution_count": 12,
     "metadata": {},
     "output_type": "execute_result"
    },
    {
     "data": {
      "image/png": "[encoded data removed]",
      "text/plain": [
       "<matplotlib.figure.Figure at 0x1a1de0ca90>"
      ]
     },
     "metadata": {},
     "output_type": "display_data"
    }
   ],
   "source": [
    "titanic_df = pd.read_csv('train.csv')\n",
    "titanic_df.Age.plot.hist()"
   ]
  },
  {
   "cell_type": "markdown",
   "metadata": {},
   "source": [
    "Now for the stats about this distribution."
   ]
  },
  {
   "cell_type": "code",
   "execution_count": 23,
   "metadata": {},
   "outputs": [
    {
     "data": {
      "text/plain": [
       "count    714.000000\n",
       "mean      29.699118\n",
       "std       14.526497\n",
       "min        0.420000\n",
       "25%       20.125000\n",
       "50%       28.000000\n",
       "75%       38.000000\n",
       "max       80.000000\n",
       "Name: Age, dtype: float64"
      ]
     },
     "execution_count": 23,
     "metadata": {},
     "output_type": "execute_result"
    }
   ],
   "source": [
    "#lets look at some descritive stats\n",
    "titanic_df.Age.describe()"
   ]
  },
  {
   "cell_type": "markdown",
   "metadata": {},
   "source": [
    "### Explanation:\n",
    "Becuase age cannot be negative, there's a finite about of range that can be observed on the left side of the median. Above the median however, there were elderly people whose advanced age skewed the average almost a point and a half from the mean."
   ]
  },
  {
   "cell_type": "markdown",
   "metadata": {},
   "source": [
    "### Negative Skew\n",
    "\n",
    "A Negative skew indicates that the longer tail of the distribution of data points lies to the left of the median, and therefore so does the mean. What this means is that there's a bigger range of values below the median. A good example of this would be the distance that athletes who successfully completed a legal jump in the qualifying round of the 2012 Olympic men's long jump recorded. Let's take a look at this."
   ]
  },
  {
   "cell_type": "code",
   "execution_count": 41,
   "metadata": {},
   "outputs": [
    {
     "data": {
      "text/plain": [
       "<matplotlib.axes._subplots.AxesSubplot at 0x10deea550>"
      ]
     },
     "execution_count": 41,
     "metadata": {},
     "output_type": "execute_result"
    },
    {
     "data": {
      "image/png": "[encoded data removed]",
      "text/plain": [
       "<matplotlib.figure.Figure at 0x1a203459b0>"
      ]
     },
     "metadata": {},
     "output_type": "display_data"
    }
   ],
   "source": [
    "long_jump_df = pd.read_csv('long_jump_2012.csv')\n",
    "long_jump_df['distance(meters)'].plot.hist()"
   ]
  },
  {
   "cell_type": "code",
   "execution_count": 38,
   "metadata": {},
   "outputs": [
    {
     "data": {
      "text/plain": [
       "count    40.000000\n",
       "mean      7.674500\n",
       "std       0.370003\n",
       "min       6.550000\n",
       "25%       7.500000\n",
       "50%       7.765000\n",
       "75%       7.955000\n",
       "max       8.110000\n",
       "Name: distance, dtype: float64"
      ]
     },
     "execution_count": 38,
     "metadata": {},
     "output_type": "execute_result"
    }
   ],
   "source": [
    "long_jump_df.distance.describe()"
   ]
  },
  {
   "cell_type": "markdown",
   "metadata": {},
   "source": [
    "### Explanation:\n",
    "While this range of values is much more clustered around the mean in this example, it's still observed that the mean is lower than the median, even though in this example it's just slightly slower. What this indicates is that ther are a greater range of data points below the median. In this dataset this makes since there's a maximum distance that a human can jump."
   ]
  },
  {
   "cell_type": "markdown",
   "metadata": {},
   "source": [
    "### Normal Distribution (no skew)\n",
    "\n",
    "A normal distribution is one where the mean, median, and even the mode share the same value. This means that 50% of the data points are both below and above the median and the mean. This also means that the tails are roughly the same length on both sides of the median/mean."
   ]
  },
  {
   "cell_type": "code",
   "execution_count": 46,
   "metadata": {},
   "outputs": [
    {
     "data": {
      "text/plain": [
       "<matplotlib.axes._subplots.AxesSubplot at 0x1a2053c400>"
      ]
     },
     "execution_count": 46,
     "metadata": {},
     "output_type": "execute_result"
    },
    {
     "data": {
      "image/png": "[encoded data removed]",
      "text/plain": [
       "<matplotlib.figure.Figure at 0x1a204b0be0>"
      ]
     },
     "metadata": {},
     "output_type": "display_data"
    }
   ],
   "source": [
    "height_df = pd.read_csv('height.csv')\n",
    "height_df['Mean height(cm)'].plot.hist()"
   ]
  },
  {
   "cell_type": "code",
   "execution_count": 47,
   "metadata": {},
   "outputs": [
    {
     "data": {
      "text/plain": [
       "count    40400.000000\n",
       "mean       162.690876\n",
       "std          7.565018\n",
       "min        140.290050\n",
       "25%        157.143326\n",
       "50%        162.474829\n",
       "75%        168.350593\n",
       "max        182.567309\n",
       "Name: Mean height(cm), dtype: float64"
      ]
     },
     "execution_count": 47,
     "metadata": {},
     "output_type": "execute_result"
    }
   ],
   "source": [
    "height_df['Mean height(cm)'].describe()"
   ]
  },
  {
   "cell_type": "code",
   "execution_count": 49,
   "metadata": {},
   "outputs": [
    {
     "data": {
      "text/plain": [
       "0    159.060192\n",
       "1    159.342158\n",
       "2    159.584713\n",
       "3    163.932327\n",
       "4    168.063765\n",
       "5    169.590879\n",
       "6    171.619115\n",
       "dtype: float64"
      ]
     },
     "execution_count": 49,
     "metadata": {},
     "output_type": "execute_result"
    }
   ],
   "source": [
    "height_df['Mean height(cm)'].mode()"
   ]
  },
  {
   "cell_type": "markdown",
   "metadata": {},
   "source": [
    "### Exercise:\n",
    "\n",
    "Using any of the datasets that we've seen so far, make a histogram using .plot.hist(), then the .describe() on 3 columns and with a partner discuss what kind of distributions you ecounter, as well as how the data is skewed and what that means for those features"
   ]
  },
  {
   "cell_type": "code",
   "execution_count": null,
   "metadata": {},
   "outputs": [],
   "source": [
    "# Do work here. "
   ]
  }
 ],
 "metadata": {
  "kernelspec": {
   "display_name": "Python 3",
   "language": "python",
   "name": "python3"
  },
  "language_info": {
   "codemirror_mode": {
    "name": "ipython",
    "version": 3
   },
   "file_extension": ".py",
   "mimetype": "text/x-python",
   "name": "python",
   "nbconvert_exporter": "python",
   "pygments_lexer": "ipython3",
   "version": "3.6.5"
  }
 },
 "nbformat": 4,
 "nbformat_minor": 2
}
