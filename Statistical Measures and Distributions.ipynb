{
 "cells": [
  {
   "cell_type": "markdown",
   "metadata": {},
   "source": [
    "# Review of hisotgrams, mean, median, and mode \n",
    "\n",
    "\n",
    "Measuring the occurence of events(how many times did it happen)  is core to how statistics works, with one of the most common representations occurences being a histogram.\n",
    "\n",
    "To recap, a histogram works by counting up all of the number of occurrances of individual events, then tallying up the count of each event. An example would be birth dates which might look like this\n",
    "\n",
    "\n",
    "\n",
    "|Year born|\n",
    "|------|\n",
    "|1995|\n",
    "|1996|\n",
    "|1995|\n",
    "|2000|\n",
    "|1989|\n",
    "|1990|\n",
    "|1976|\n",
    "|1950|\n",
    "|2001|\n"
   ]
  },
  {
   "cell_type": "code",
   "execution_count": null,
   "metadata": {},
   "outputs": [],
   "source": []
  },
  {
   "cell_type": "code",
   "execution_count": null,
   "metadata": {},
   "outputs": [],
   "source": [
    "## Types: Measures of Central Tendency & Measures of Spread\n",
    "\n",
    "### Measures of Central Tendency\n",
    "Intuition tell us that if you had to choose a single value to represent an entire sample space, you’d pick a value near the center of the distrubution of events.What the distribution describes is the number of occurences of events in our data."
   ]
  }
 ],
 "metadata": {
  "kernelspec": {
   "display_name": "Python 3",
   "language": "python",
   "name": "python3"
  },
  "language_info": {
   "codemirror_mode": {
    "name": "ipython",
    "version": 3
   },
   "file_extension": ".py",
   "mimetype": "text/x-python",
   "name": "python",
   "nbconvert_exporter": "python",
   "pygments_lexer": "ipython3",
   "version": "3.6.5"
  }
 },
 "nbformat": 4,
 "nbformat_minor": 2
}
